{
 "cells": [
  {
   "cell_type": "markdown",
   "metadata": {},
   "source": [
    "### Extract apply link domains\n",
    "\n",
    "The following code extract the domain of apply links. The extraction is used to decide which apply boards are mostly used. I'm aiming to automate the application process at these job boards.\n",
    "\n",
    "__DON'T REMOVE__"
   ]
  },
  {
   "cell_type": "code",
   "execution_count": 9,
   "metadata": {},
   "outputs": [
    {
     "ename": "OperationalError",
     "evalue": "unable to open database file",
     "output_type": "error",
     "traceback": [
      "\u001b[0;31m---------------------------------------------------------------------------\u001b[0m",
      "\u001b[0;31mOperationalError\u001b[0m                          Traceback (most recent call last)",
      "Cell \u001b[0;32mIn[9], line 5\u001b[0m\n\u001b[1;32m      2\u001b[0m \u001b[38;5;28;01mfrom\u001b[39;00m \u001b[38;5;21;01msrc\u001b[39;00m\u001b[38;5;21;01m.\u001b[39;00m\u001b[38;5;21;01mdb\u001b[39;00m \u001b[38;5;28;01mimport\u001b[39;00m DB\n\u001b[1;32m      3\u001b[0m \u001b[38;5;28;01mimport\u001b[39;00m \u001b[38;5;21;01mre\u001b[39;00m\n\u001b[0;32m----> 5\u001b[0m db \u001b[38;5;241m=\u001b[39m \u001b[43mDB\u001b[49m\u001b[43m(\u001b[49m\u001b[38;5;124;43m\"\u001b[39;49m\u001b[38;5;124;43mresults/jobs.sqlite\u001b[39;49m\u001b[38;5;124;43m\"\u001b[39;49m\u001b[43m)\u001b[49m\n\u001b[1;32m      6\u001b[0m \u001b[38;5;66;03m# https://something.domain.com/blahblahblah -> domain.com\u001b[39;00m\n\u001b[1;32m      7\u001b[0m pat \u001b[38;5;241m=\u001b[39m re\u001b[38;5;241m.\u001b[39mcompile(\u001b[38;5;124mr\u001b[39m\u001b[38;5;124m\"\u001b[39m\u001b[38;5;124mhttps?:\u001b[39m\u001b[38;5;124m\\\u001b[39m\u001b[38;5;124m/\u001b[39m\u001b[38;5;124m\\\u001b[39m\u001b[38;5;124m/(.*\u001b[39m\u001b[38;5;124m\\\u001b[39m\u001b[38;5;124m.)?(.*\u001b[39m\u001b[38;5;124m\\\u001b[39m\u001b[38;5;124m..*?)\u001b[39m\u001b[38;5;124m\\\u001b[39m\u001b[38;5;124m/.*\u001b[39m\u001b[38;5;124m\"\u001b[39m)\n",
      "File \u001b[0;32m/media/arian/Storage/Projects/fields_extractor/src/db.py:13\u001b[0m, in \u001b[0;36mDB.__init__\u001b[0;34m(self, db_name, output_folder)\u001b[0m\n\u001b[1;32m     11\u001b[0m \u001b[38;5;28;01mif\u001b[39;00m output_folder \u001b[38;5;241m!=\u001b[39m \u001b[38;5;124m\"\u001b[39m\u001b[38;5;124m.\u001b[39m\u001b[38;5;124m\"\u001b[39m:\n\u001b[1;32m     12\u001b[0m     Path(output_folder)\u001b[38;5;241m.\u001b[39mmkdir(exist_ok\u001b[38;5;241m=\u001b[39m\u001b[38;5;28;01mTrue\u001b[39;00m)\n\u001b[0;32m---> 13\u001b[0m \u001b[38;5;28mself\u001b[39m\u001b[38;5;241m.\u001b[39mconn \u001b[38;5;241m=\u001b[39m \u001b[43msqlite3\u001b[49m\u001b[38;5;241;43m.\u001b[39;49m\u001b[43mconnect\u001b[49m\u001b[43m(\u001b[49m\u001b[38;5;124;43mf\u001b[39;49m\u001b[38;5;124;43m\"\u001b[39;49m\u001b[38;5;132;43;01m{\u001b[39;49;00m\u001b[43moutput_folder\u001b[49m\u001b[38;5;132;43;01m}\u001b[39;49;00m\u001b[38;5;124;43m/\u001b[39;49m\u001b[38;5;132;43;01m{\u001b[39;49;00m\u001b[43mdb_name\u001b[49m\u001b[38;5;132;43;01m}\u001b[39;49;00m\u001b[38;5;124;43m\"\u001b[39;49m\u001b[43m)\u001b[49m\n\u001b[1;32m     14\u001b[0m \u001b[38;5;28mself\u001b[39m\u001b[38;5;241m.\u001b[39mcursor \u001b[38;5;241m=\u001b[39m \u001b[38;5;28mself\u001b[39m\u001b[38;5;241m.\u001b[39mconn\u001b[38;5;241m.\u001b[39mcursor()\n\u001b[1;32m     15\u001b[0m \u001b[38;5;28mself\u001b[39m\u001b[38;5;241m.\u001b[39mcreate_tables()\n",
      "\u001b[0;31mOperationalError\u001b[0m: unable to open database file"
     ]
    }
   ],
   "source": [
    "import pandas as pd\n",
    "from src.db import DB\n",
    "import re\n",
    "\n",
    "db = DB(\"results/jobs.sqlite\")\n",
    "# https://something.domain.com/blahblahblah -> domain.com\n",
    "pat = re.compile(r\"https?:\\/\\/(.*\\.)?(.*\\..*?)\\/.*\")\n",
    "q = \"\"\"\n",
    "SELECT d.id, d.apply_link, c.name FROM details as d \n",
    "LEFT JOIN company as c ON d.company_id = c.id\n",
    "WHERE apply_link IS NOT NULL;\n",
    "\"\"\"\n",
    "db.cursor.execute(q)\n",
    "raw = db.cursor.fetchall()\n",
    "df = pd.DataFrame(columns=[\"id\",\"apply_link\",\"company_name\"],data=raw)\n",
    "df[\"apply_board\"] = df[\"apply_link\"].apply(lambda lnk: pat.findall(lnk)[0][-1])\n",
    "df['apply_board'].value_counts()"
   ]
  },
  {
   "cell_type": "code",
   "execution_count": null,
   "metadata": {},
   "outputs": [],
   "source": [
    "from dotenv import load_dotenv\n",
    "from src.driver import Driver\n",
    "from src.scanner import Scanner\n",
    "from time import sleep\n",
    "# from selenium.webdriver.support import expected_conditions as ec\n",
    "load_dotenv()\n",
    "driver = Driver(load_timeout=-1, driver_logging=False,debug_address=\"localhost:9222\")\n",
    "driver.driver.refresh()\n",
    "sleep(2)\n",
    "form = driver.driver.find_element(\"xpath\",)\n",
    "scanner = Scanner(driver.driver,\"//div[contains(@data-automation-id,'Page')]\")\n",
    "scanner.run()"
   ]
  },
  {
   "cell_type": "code",
   "execution_count": 3,
   "metadata": {},
   "outputs": [],
   "source": [
    "from dotenv import load_dotenv\n",
    "from src.driver import Driver\n",
    "from src.scanner import Scanner\n",
    "from src.routines.myworkday import Routine\n",
    "from time import sleep\n",
    "# from selenium.webdriver.support import expected_conditions as ec\n",
    "load_dotenv()\n",
    "driver = Driver(load_timeout=-1, driver_logging=False,debug_address=\"localhost:9222\")\n",
    "# driver.driver.implicitly_wait(10)\n",
    "routine = Routine(driver.driver,\"https://td.wd3.myworkdayjobs.com/en-US/TD_Bank_Careers/job/Toronto%2C-Ontario/Sr-Software-Engineer--ETrading--ION_R_1346079/apply/applyManually\")\n",
    "# routine.goto_url().pause(2).get_creds().sign_in().pause(3).refresh()#.pause(5).my_information().pause(1).find_click_submit_btn().pause(5).my_experience()\n",
    "# routine.find_click_submit_btn().pause(5).my_experience(selected_sections=[\"files\"])"
   ]
  },
  {
   "cell_type": "markdown",
   "metadata": {},
   "source": [
    "## Scan all form elements"
   ]
  },
  {
   "cell_type": "code",
   "execution_count": null,
   "metadata": {},
   "outputs": [],
   "source": [
    "from dotenv import load_dotenv\n",
    "from src.driver import Driver\n",
    "from src.scanner import Scanner\n",
    "from selenium.webdriver import Keys, ActionChains\n",
    "load_dotenv()\n",
    "driver = Driver(load_timeout=-1, driver_logging=False,debug_address=\"localhost:9222\")\n",
    "scanner = Scanner(driver.driver,\"div[contains(@data-automation-id,'Page')]\")\n",
    "# scanner.refresh_for_form()\n",
    "results = []\n",
    "for el in scanner.form_elements():\n",
    "    el_type = scanner.find_input_type(el)\n",
    "    match el_type: \n",
    "        case \"radio\":\n",
    "            text, choices = scanner.find_radio_text(el)\n",
    "            results.append({\n",
    "                \"is_group\": False,\n",
    "                \"type\": el_type,\n",
    "                \"element\": el,\n",
    "                \"text\": text,\n",
    "                \"choices\": choices\n",
    "            })\n",
    "        case \"checkbox\":\n",
    "            text, choices = scanner.find_checkbox_text(el)\n",
    "            if text:\n",
    "                results.append({\n",
    "                    \"is_group\": True,\n",
    "                    \"type\": el_type,\n",
    "                    \"element\": el,\n",
    "                    \"text\": text,\n",
    "                    \"choices\": choices\n",
    "                })\n",
    "            else:\n",
    "                results.append({\n",
    "                    \"is_group\": False,\n",
    "                    \"type\": el_type,\n",
    "                    \"element\": el,\n",
    "                    \"text\": text,\n",
    "                    \"choices\": None\n",
    "                })\n",
    "        case _:\n",
    "            text = scanner.find_text(el),\n",
    "            results.append({\n",
    "                \"is_group\": False,\n",
    "                \"type\": el_type,\n",
    "                \"element\": el,\n",
    "                \"text\": text,\n",
    "                \"choices\": None\n",
    "            })\n",
    "results"
   ]
  },
  {
   "cell_type": "code",
   "execution_count": 1,
   "metadata": {},
   "outputs": [
    {
     "name": "stdout",
     "output_type": "stream",
     "text": [
      "['No, I am not 18 years or older', 'Yes, I am 18 years or older']\n",
      "['No, I do not meet this requirement', 'Yes, I meet this requirement']\n",
      "['No, I am not', 'Yes, I am']\n",
      "['No, I will not be able to meet this requirement', 'Yes, I understand this requirement']\n",
      "['Yes, I currently hold or have previously held an insurance license', 'No, I have not']\n",
      "['No, my insurance license has never been refused, revoked or suspended', 'Yes, my insurance license is or has previously been refused, revoked or suspended']\n"
     ]
    }
   ],
   "source": [
    "from dotenv import load_dotenv\n",
    "from src.driver import Driver\n",
    "from src.scanner import Scanner\n",
    "from selenium.webdriver import Keys, ActionChains\n",
    "from src.routines.myworkday import Routine\n",
    "load_dotenv()\n",
    "driver = Driver(load_timeout=-1, driver_logging=False,debug_address=\"localhost:9222\")\n",
    "scanner = Scanner(driver.driver,\"div[contains(@data-automation-id,'Page')]\")\n",
    "routine = Routine(driver.driver,\"https://td.wd3.myworkdayjobs.com/en-US/TD_Bank_Careers/job/Toronto%2C-Ontario/Sr-Software-Engineer--ETrading--ION_R_1346079/apply/applyManually\")\n",
    "# routine.refresh().pause(5).find_click_submit_btn().pause(5).find_click_submit_btn()\n",
    "for _ in range(6):\n",
    "    res = scanner.find_dropdown_text()\n",
    "    scanner.reset_dropdown()\n",
    "    print(res)\n",
    "    scanner.press_key()"
   ]
  },
  {
   "cell_type": "code",
   "execution_count": 4,
   "metadata": {},
   "outputs": [
    {
     "data": {
      "text/plain": [
       "<src.routines.myworkday.Routine at 0x7fb30f734b20>"
      ]
     },
     "execution_count": 4,
     "metadata": {},
     "output_type": "execute_result"
    }
   ],
   "source": [
    "routine.refresh().pause(5).find_click_submit_btn().pause(5).find_click_submit_btn()"
   ]
  },
  {
   "cell_type": "code",
   "execution_count": 19,
   "metadata": {},
   "outputs": [],
   "source": [
    "inp = scanner.active_element().find_element(\"xpath\",\"following::input\")\n",
    "scanner.driver.execute_script(\"arguments[0].removeAttribute('value')\",inp)\n",
    "scanner.driver.execute_script(\"arguments[0].innerText='select one'\",scanner.active_element())"
   ]
  },
  {
   "cell_type": "code",
   "execution_count": 2,
   "metadata": {},
   "outputs": [],
   "source": [
    "el = scanner.active_element()"
   ]
  },
  {
   "cell_type": "code",
   "execution_count": 3,
   "metadata": {},
   "outputs": [],
   "source": [
    "scanner.driver.execute_script(\"arguments[0].focus()\",el)"
   ]
  },
  {
   "cell_type": "code",
   "execution_count": 4,
   "metadata": {},
   "outputs": [],
   "source": [
    "scanner.active_element().click()"
   ]
  },
  {
   "cell_type": "code",
   "execution_count": null,
   "metadata": {},
   "outputs": [],
   "source": []
  }
 ],
 "metadata": {
  "kernelspec": {
   "display_name": "venv",
   "language": "python",
   "name": "python3"
  },
  "language_info": {
   "codemirror_mode": {
    "name": "ipython",
    "version": 3
   },
   "file_extension": ".py",
   "mimetype": "text/x-python",
   "name": "python",
   "nbconvert_exporter": "python",
   "pygments_lexer": "ipython3",
   "version": "3.10.12"
  }
 },
 "nbformat": 4,
 "nbformat_minor": 2
}
