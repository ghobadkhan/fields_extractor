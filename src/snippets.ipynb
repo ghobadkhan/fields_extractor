{
 "cells": [
  {
   "cell_type": "markdown",
   "metadata": {},
   "source": [
    "### Extract apply link domains\n",
    "\n",
    "The following code extract the domain of apply links. The extraction is used to decide which apply boards are mostly used. I'm aiming to automate the application process at these job boards.\n",
    "\n",
    "__DON'T REMOVE__"
   ]
  },
  {
   "cell_type": "code",
   "execution_count": null,
   "metadata": {},
   "outputs": [],
   "source": [
    "import pandas as pd\n",
    "from src.db import DB\n",
    "import re\n",
    "\n",
    "db = DB(\"results/jobs.sqlite\")\n",
    "# https://something.domain.com/blahblahblah -> domain.com\n",
    "pat = re.compile(r\"https?:\\/\\/(.*\\.)?(.*\\..*?)\\/.*\")\n",
    "q = \"\"\"\n",
    "SELECT d.id, d.apply_link, c.name FROM details as d \n",
    "LEFT JOIN company as c ON d.company_id = c.id\n",
    "WHERE apply_link IS NOT NULL;\n",
    "\"\"\"\n",
    "db.cursor.execute(q)\n",
    "raw = db.cursor.fetchall()\n",
    "df = pd.DataFrame(columns=[\"id\",\"apply_link\",\"company_name\"],data=raw)\n",
    "df[\"apply_board\"] = df[\"apply_link\"].apply(lambda lnk: pat.findall(lnk)[0][-1])\n",
    "df['apply_board'].value_counts()"
   ]
  },
  {
   "cell_type": "code",
   "execution_count": null,
   "metadata": {},
   "outputs": [],
   "source": [
    "from dotenv import load_dotenv\n",
    "from src.driver import Driver\n",
    "from src.scanner import Scanner\n",
    "from time import sleep\n",
    "# from selenium.webdriver.support import expected_conditions as ec\n",
    "load_dotenv()\n",
    "driver = Driver(load_timeout=-1, driver_logging=False,debug_address=\"localhost:9222\")\n",
    "driver.driver.refresh()\n",
    "sleep(2)\n",
    "form = driver.driver.find_element(\"xpath\",)\n",
    "scanner = Scanner(driver.driver,\"//div[contains(@data-automation-id,'Page')]\")\n",
    "scanner.run()"
   ]
  },
  {
   "cell_type": "code",
   "execution_count": null,
   "metadata": {},
   "outputs": [],
   "source": [
    "from dotenv import load_dotenv\n",
    "from src.driver import Driver\n",
    "from src.scanner import Scanner\n",
    "from src.routines.myworkday import Routine\n",
    "from time import sleep\n",
    "# from selenium.webdriver.support import expected_conditions as ec\n",
    "load_dotenv()\n",
    "driver = Driver(load_timeout=-1, driver_logging=False,debug_address=\"localhost:9222\")\n",
    "# driver.driver.implicitly_wait(10)\n",
    "# routine = Routine(driver.driver,\"https://td.wd3.myworkdayjobs.com/en-US/TD_Bank_Careers/job/Toronto%2C-Ontario/Sr-Software-Engineer--ETrading--ION_R_1346079/apply/applyManually\")\n",
    "# routine.goto_url().pause(2).get_creds().sign_in().pause(3).refresh().pause(5).my_information().pause(1).find_click_submit_btn().pause(5).my_experience()"
   ]
  },
  {
   "cell_type": "code",
   "execution_count": 5,
   "metadata": {},
   "outputs": [
    {
     "name": "stdout",
     "output_type": "stream",
     "text": [
      "input multiselect_input\n",
      "input radio\n",
      "button dropdown\n",
      "input text\n",
      "input text\n",
      "input checkbox\n",
      "input text\n",
      "input text\n",
      "button dropdown\n",
      "input text\n",
      "button dropdown\n",
      "input multiselect_input\n",
      "input text\n",
      "input text\n"
     ]
    }
   ],
   "source": [
    "from dotenv import load_dotenv\n",
    "from src.driver import Driver\n",
    "from src.scanner import Scanner\n",
    "from selenium.webdriver import Keys, ActionChains\n",
    "load_dotenv()\n",
    "driver = Driver(load_timeout=-1, driver_logging=False,debug_address=\"localhost:9222\")\n",
    "scanner = Scanner(driver.driver,\"div[contains(@data-automation-id,'Page')]\")\n",
    "scanner.run()\n",
    "# chain = ActionChains(driver)\n",
    "# form = driver.find_element(\"xpath\",\"//div[contains(@data-automation-id,'Page')]\")\n",
    "# el = form.find_element(\"xpath\",\"preceding-sibling::*\")"
   ]
  },
  {
   "cell_type": "code",
   "execution_count": 6,
   "metadata": {},
   "outputs": [],
   "source": [
    "el = driver.driver.switch_to.active_element"
   ]
  },
  {
   "cell_type": "code",
   "execution_count": 7,
   "metadata": {},
   "outputs": [],
   "source": [
    "el.click()"
   ]
  },
  {
   "cell_type": "code",
   "execution_count": null,
   "metadata": {},
   "outputs": [],
   "source": []
  }
 ],
 "metadata": {
  "kernelspec": {
   "display_name": "venv",
   "language": "python",
   "name": "python3"
  },
  "language_info": {
   "codemirror_mode": {
    "name": "ipython",
    "version": 3
   },
   "file_extension": ".py",
   "mimetype": "text/x-python",
   "name": "python",
   "nbconvert_exporter": "python",
   "pygments_lexer": "ipython3",
   "version": "3.10.12"
  }
 },
 "nbformat": 4,
 "nbformat_minor": 2
}
