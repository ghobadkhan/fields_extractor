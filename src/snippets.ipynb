{
 "cells": [
  {
   "cell_type": "markdown",
   "metadata": {},
   "source": [
    "### Extract apply link domains\n",
    "\n",
    "The following code extract the domain of apply links. The extraction is used to decide which apply boards are mostly used. I'm aiming to automate the application process at these job boards.\n",
    "\n",
    "__DON'T REMOVE__"
   ]
  },
  {
   "cell_type": "code",
   "execution_count": null,
   "metadata": {},
   "outputs": [],
   "source": [
    "import pandas as pd\n",
    "from src.db import DB\n",
    "import re\n",
    "\n",
    "db = DB(\"results/jobs.sqlite\")\n",
    "# https://something.domain.com/blahblahblah -> domain.com\n",
    "pat = re.compile(r\"https?:\\/\\/(.*\\.)?(.*\\..*?)\\/.*\")\n",
    "q = \"\"\"\n",
    "SELECT d.id, d.apply_link, c.name FROM details as d \n",
    "LEFT JOIN company as c ON d.company_id = c.id\n",
    "WHERE apply_link IS NOT NULL;\n",
    "\"\"\"\n",
    "db.cursor.execute(q)\n",
    "raw = db.cursor.fetchall()\n",
    "df = pd.DataFrame(columns=[\"id\",\"apply_link\",\"company_name\"],data=raw)\n",
    "df[\"apply_board\"] = df[\"apply_link\"].apply(lambda lnk: pat.findall(lnk)[0][-1])\n",
    "df['apply_board'].value_counts()"
   ]
  },
  {
   "cell_type": "code",
   "execution_count": null,
   "metadata": {},
   "outputs": [],
   "source": [
    "from dotenv import load_dotenv\n",
    "from src.driver import Driver\n",
    "from src.scanner import Scanner\n",
    "from time import sleep\n",
    "# from selenium.webdriver.support import expected_conditions as ec\n",
    "load_dotenv()\n",
    "driver = Driver(load_timeout=-1, driver_logging=False,debug_address=\"localhost:9222\")\n",
    "driver.driver.refresh()\n",
    "sleep(2)\n",
    "form = driver.driver.find_element(\"xpath\",)\n",
    "scanner = Scanner(driver.driver,\"//div[contains(@data-automation-id,'Page')]\")\n",
    "scanner.run()"
   ]
  },
  {
   "cell_type": "code",
   "execution_count": 1,
   "metadata": {},
   "outputs": [
    {
     "name": "stdout",
     "output_type": "stream",
     "text": [
      "[<selenium.webdriver.remote.webelement.WebElement (session=\"885253987671bb7383edad971dfece4a\", element=\"f.6247A4E855A4160E5231E19D8B3EA106.d.E20FFD73B27D53EB5266204B4B07F11F.e.178\")>, <selenium.webdriver.remote.webelement.WebElement (session=\"885253987671bb7383edad971dfece4a\", element=\"f.6247A4E855A4160E5231E19D8B3EA106.d.E20FFD73B27D53EB5266204B4B07F11F.e.179\")>, <selenium.webdriver.remote.webelement.WebElement (session=\"885253987671bb7383edad971dfece4a\", element=\"f.6247A4E855A4160E5231E19D8B3EA106.d.E20FFD73B27D53EB5266204B4B07F11F.e.180\")>, <selenium.webdriver.remote.webelement.WebElement (session=\"885253987671bb7383edad971dfece4a\", element=\"f.6247A4E855A4160E5231E19D8B3EA106.d.E20FFD73B27D53EB5266204B4B07F11F.e.181\")>, <selenium.webdriver.remote.webelement.WebElement (session=\"885253987671bb7383edad971dfece4a\", element=\"f.6247A4E855A4160E5231E19D8B3EA106.d.E20FFD73B27D53EB5266204B4B07F11F.e.182\")>, <selenium.webdriver.remote.webelement.WebElement (session=\"885253987671bb7383edad971dfece4a\", element=\"f.6247A4E855A4160E5231E19D8B3EA106.d.E20FFD73B27D53EB5266204B4B07F11F.e.183\")>, <selenium.webdriver.remote.webelement.WebElement (session=\"885253987671bb7383edad971dfece4a\", element=\"f.6247A4E855A4160E5231E19D8B3EA106.d.E20FFD73B27D53EB5266204B4B07F11F.e.184\")>, <selenium.webdriver.remote.webelement.WebElement (session=\"885253987671bb7383edad971dfece4a\", element=\"f.6247A4E855A4160E5231E19D8B3EA106.d.E20FFD73B27D53EB5266204B4B07F11F.e.185\")>, <selenium.webdriver.remote.webelement.WebElement (session=\"885253987671bb7383edad971dfece4a\", element=\"f.6247A4E855A4160E5231E19D8B3EA106.d.E20FFD73B27D53EB5266204B4B07F11F.e.186\")>, <selenium.webdriver.remote.webelement.WebElement (session=\"885253987671bb7383edad971dfece4a\", element=\"f.6247A4E855A4160E5231E19D8B3EA106.d.E20FFD73B27D53EB5266204B4B07F11F.e.187\")>, <selenium.webdriver.remote.webelement.WebElement (session=\"885253987671bb7383edad971dfece4a\", element=\"f.6247A4E855A4160E5231E19D8B3EA106.d.E20FFD73B27D53EB5266204B4B07F11F.e.188\")>, <selenium.webdriver.remote.webelement.WebElement (session=\"885253987671bb7383edad971dfece4a\", element=\"f.6247A4E855A4160E5231E19D8B3EA106.d.E20FFD73B27D53EB5266204B4B07F11F.e.189\")>, <selenium.webdriver.remote.webelement.WebElement (session=\"885253987671bb7383edad971dfece4a\", element=\"f.6247A4E855A4160E5231E19D8B3EA106.d.E20FFD73B27D53EB5266204B4B07F11F.e.190\")>, <selenium.webdriver.remote.webelement.WebElement (session=\"885253987671bb7383edad971dfece4a\", element=\"f.6247A4E855A4160E5231E19D8B3EA106.d.E20FFD73B27D53EB5266204B4B07F11F.e.191\")>, <selenium.webdriver.remote.webelement.WebElement (session=\"885253987671bb7383edad971dfece4a\", element=\"f.6247A4E855A4160E5231E19D8B3EA106.d.E20FFD73B27D53EB5266204B4B07F11F.e.192\")>]\n"
     ]
    },
    {
     "data": {
      "text/plain": [
       "<src.routines.myworkday.Routine at 0x72b5932df3d0>"
      ]
     },
     "execution_count": 1,
     "metadata": {},
     "output_type": "execute_result"
    }
   ],
   "source": [
    "from dotenv import load_dotenv\n",
    "from src.driver import Driver\n",
    "from src.scanner import Scanner\n",
    "from src.routines.myworkday import Routine\n",
    "from time import sleep\n",
    "# from selenium.webdriver.support import expected_conditions as ec\n",
    "load_dotenv()\n",
    "driver = Driver(load_timeout=-1, driver_logging=False,debug_address=\"localhost:9222\")\n",
    "driver.driver.implicitly_wait(10)\n",
    "routine = Routine(driver.driver,\"https://td.wd3.myworkdayjobs.com/en-US/TD_Bank_Careers/login?redirect=%2Fen-US%2FTD_Bank_Careers%2Fjob%2FMarkham%252C-Ontario%2FContact-Centre-Representative--Canadian-Banking--Easyline_R_1342984%2Fapply%2FapplyManually\")\n",
    "routine.goto_url().pause(2).get_creds().sign_in().pause(3).refresh().pause(5).my_information().pause(1).find_click_submit_btn().pause(5).my_experience()"
   ]
  },
  {
   "cell_type": "code",
   "execution_count": 1,
   "metadata": {},
   "outputs": [
    {
     "ename": "NameError",
     "evalue": "name 'routine' is not defined",
     "output_type": "error",
     "traceback": [
      "\u001b[0;31m---------------------------------------------------------------------------\u001b[0m",
      "\u001b[0;31mNameError\u001b[0m                                 Traceback (most recent call last)",
      "Cell \u001b[0;32mIn[1], line 1\u001b[0m\n\u001b[0;32m----> 1\u001b[0m \u001b[43mroutine\u001b[49m\u001b[38;5;241m.\u001b[39mmy_information()\n",
      "\u001b[0;31mNameError\u001b[0m: name 'routine' is not defined"
     ]
    }
   ],
   "source": [
    "routine.my_information()"
   ]
  },
  {
   "cell_type": "code",
   "execution_count": null,
   "metadata": {},
   "outputs": [],
   "source": []
  }
 ],
 "metadata": {
  "kernelspec": {
   "display_name": "venv",
   "language": "python",
   "name": "python3"
  },
  "language_info": {
   "codemirror_mode": {
    "name": "ipython",
    "version": 3
   },
   "file_extension": ".py",
   "mimetype": "text/x-python",
   "name": "python",
   "nbconvert_exporter": "python",
   "pygments_lexer": "ipython3",
   "version": "3.10.12"
  }
 },
 "nbformat": 4,
 "nbformat_minor": 2
}
