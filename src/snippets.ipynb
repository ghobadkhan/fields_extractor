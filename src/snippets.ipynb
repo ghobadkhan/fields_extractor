{
 "cells": [
  {
   "cell_type": "markdown",
   "metadata": {},
   "source": [
    "### Extract apply link domains\n",
    "\n",
    "The following code extract the domain of apply links. The extraction is used to decide which apply boards are mostly used. I'm aiming to automate the application process at these job boards.\n",
    "\n",
    "__DON'T REMOVE__"
   ]
  },
  {
   "cell_type": "code",
   "execution_count": null,
   "metadata": {},
   "outputs": [],
   "source": [
    "import pandas as pd\n",
    "from src.db import DB\n",
    "import re\n",
    "\n",
    "db = DB(\"results/jobs.sqlite\")\n",
    "# https://something.domain.com/blahblahblah -> domain.com\n",
    "pat = re.compile(r\"https?:\\/\\/(.*\\.)?(.*\\..*?)\\/.*\")\n",
    "q = \"\"\"\n",
    "SELECT d.id, d.apply_link, c.name FROM details as d \n",
    "LEFT JOIN company as c ON d.company_id = c.id\n",
    "WHERE apply_link IS NOT NULL;\n",
    "\"\"\"\n",
    "db.cursor.execute(q)\n",
    "raw = db.cursor.fetchall()\n",
    "df = pd.DataFrame(columns=[\"id\",\"apply_link\",\"company_name\"],data=raw)\n",
    "df[\"apply_board\"] = df[\"apply_link\"].apply(lambda lnk: pat.findall(lnk)[0][-1])\n",
    "df['apply_board'].value_counts()"
   ]
  },
  {
   "cell_type": "code",
   "execution_count": null,
   "metadata": {},
   "outputs": [],
   "source": [
    "tabs = driver.driver.window_handles\n",
    "driver.driver.switch_to.window(tabs[0])\n",
    "driver.driver.current_url"
   ]
  },
  {
   "cell_type": "code",
   "execution_count": null,
   "metadata": {},
   "outputs": [],
   "source": [
    "from src.driver import Driver\n",
    "from dotenv import load_dotenv\n",
    "from src.routines.myworkday import input_application\n",
    "from selenium.webdriver.common.keys import Keys\n",
    "import os\n",
    "from time import sleep\n",
    "load_dotenv()\n",
    "driver = Driver(load_timeout=-1, driver_logging=False, debug_address=\"localhost:9222\")\n",
    "# driver.driver_get_link(\"https://td.wd3.myworkdayjobs.com/en-US/TD_Bank_Careers/job/Markham%2C-Ontario/Contact-Centre-Representative--Canadian-Banking--Easyline_R_1342984/apply/applyManually\")\n",
    "res = driver.driver.find_elements(\"xpath\",\"//div[contains(@data-automation-id,'formField')]\")\n",
    "# for r in res:\n",
    "#     print(r.get_attribute('data-automation-id'))\n",
    "container = res[0].find_element(by=\"xpath\",value=f\".//*[contains(@data-automation-id,'multiselectInputContainer')]\")\n",
    "container.click()\n",
    "sleep(1)\n",
    "search_box = container.find_element(by=\"xpath\",value=f\".//*[contains(@data-automation-id,'searchBox')]\")\n",
    "search_box.send_keys(\"a\")\n",
    "search_box.send_keys(Keys.ENTER)\n",
    "sleep(1)\n",
    "container.find_element(by=\"xpath\",value=f\"//div[contains(@data-automation-id,'promptLeafNode')]\").click()"
   ]
  },
  {
   "cell_type": "code",
   "execution_count": null,
   "metadata": {},
   "outputs": [],
   "source": [
    "from src.driver import Driver\n",
    "from dotenv import load_dotenv\n",
    "# from src.routines.myworkday import run, select_radio_button, select_dropdown\n",
    "from selenium.webdriver.common.keys import Keys\n",
    "import os\n",
    "from time import sleep\n",
    "load_dotenv()\n",
    "driver = Driver(load_timeout=-1, driver_logging=False, debug_address=\"localhost:9222\")\n",
    "# driver.driver_get_link(\"https://td.wd3.myworkdayjobs.com/en-US/TD_Bank_Careers/job/Markham%2C-Ontario/Contact-Centre-Representative--Canadian-Banking--Easyline_R_1342984/apply/applyManually\")\n",
    "# res = driver.driver.find_elements(\"xpath\",\"//div[contains(@data-automation-id, 'Section') and not(@class)]\")\n",
    "res = driver.driver.find_elements(\"xpath\",\"//div[@data-automation-id]\")\n",
    "for r in res:\n",
    "    print(r.get_attribute(\"data-automation-id\"))"
   ]
  },
  {
   "cell_type": "code",
   "execution_count": null,
   "metadata": {},
   "outputs": [],
   "source": [
    "secs = driver.driver.find_elements(\"xpath\",\"//div[contains(@data-automation-id,'Section') and not(@class)]\")\n",
    "for s in secs:\n",
    "    print(s.get_attribute('data-automation-id'))"
   ]
  },
  {
   "cell_type": "code",
   "execution_count": 1,
   "metadata": {
    "metadata": {}
   },
   "outputs": [],
   "source": [
    "from src.driver import Driver\n",
    "from dotenv import load_dotenv\n",
    "from urllib.parse import urlparse\n",
    "from src.routines.myworkday import sign_in, my_experience, my_information\n",
    "from selenium.webdriver import Keys, ActionChains\n",
    "import os\n",
    "from time import sleep\n",
    "load_dotenv()\n",
    "driver = Driver(load_timeout=-1, driver_logging=False, debug_address=\"localhost:9222\")\n",
    "driver.driver.implicitly_wait(30)\n",
    "url = \"https://td.wd3.myworkdayjobs.com/en-US/TD_Bank_Careers/job/Chilliwack%2C-British-Columbia/Customer-Experience-Associate-Future-Opportunities_R_1343945/apply/applyManually\"\n",
    "# driver.driver_get_link(url)\n",
    "# sleep(2)\n",
    "# sign_in(driver.driver,\"z8c9kgsgo@mozmail.com\",\"fuckRecruiters123@\")\n",
    "# sleep(2)\n",
    "# driver.driver.refresh()\n",
    "# my_information(driver.driver)\n",
    "# sleep(5)\n",
    "my_experience(driver.driver)"
   ]
  },
  {
   "cell_type": "code",
   "execution_count": null,
   "metadata": {},
   "outputs": [],
   "source": []
  }
 ],
 "metadata": {
  "kernelspec": {
   "display_name": "venv",
   "language": "python",
   "name": "python3"
  },
  "language_info": {
   "codemirror_mode": {
    "name": "ipython",
    "version": 3
   },
   "file_extension": ".py",
   "mimetype": "text/x-python",
   "name": "python",
   "nbconvert_exporter": "python",
   "pygments_lexer": "ipython3",
   "version": "3.10.12"
  }
 },
 "nbformat": 4,
 "nbformat_minor": 2
}
