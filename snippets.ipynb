{
 "cells": [
  {
   "cell_type": "markdown",
   "metadata": {},
   "source": [
    "### Extract apply link domains\n",
    "\n",
    "The following code extract the domain of apply links. The extraction is used to decide which apply boards are mostly used. I'm aiming to automate the application process at these job boards.\n",
    "\n",
    "__DON'T REMOVE__"
   ]
  },
  {
   "cell_type": "code",
   "execution_count": null,
   "metadata": {},
   "outputs": [],
   "source": [
    "import pandas as pd\n",
    "from src.db import DB\n",
    "import re\n",
    "\n",
    "db = DB(\"results/jobs.sqlite\")\n",
    "# https://something.domain.com/blahblahblah -> domain.com\n",
    "pat = re.compile(r\"https?:\\/\\/(.*\\.)?(.*\\..*?)\\/.*\")\n",
    "q = \"\"\"\n",
    "SELECT d.id, d.apply_link, c.name FROM details as d \n",
    "LEFT JOIN company as c ON d.company_id = c.id\n",
    "WHERE apply_link IS NOT NULL;\n",
    "\"\"\"\n",
    "db.cursor.execute(q)\n",
    "raw = db.cursor.fetchall()\n",
    "df = pd.DataFrame(columns=[\"id\",\"apply_link\",\"company_name\"],data=raw)\n",
    "df[\"apply_board\"] = df[\"apply_link\"].apply(lambda lnk: pat.findall(lnk)[0][-1])\n",
    "df['apply_board'].value_counts()"
   ]
  },
  {
   "cell_type": "code",
   "execution_count": null,
   "metadata": {},
   "outputs": [],
   "source": [
    "from dotenv import load_dotenv\n",
    "from src.driver import Driver\n",
    "from src.scanner import Scanner\n",
    "from time import sleep\n",
    "# from selenium.webdriver.support import expected_conditions as ec\n",
    "load_dotenv()\n",
    "driver = Driver(load_timeout=-1, driver_logging=False,debug_address=\"localhost:9222\")\n",
    "driver.driver.refresh()\n",
    "sleep(2)\n",
    "form = driver.driver.find_element(\"xpath\",)\n",
    "scanner = Scanner(driver.driver,\"//div[contains(@data-automation-id,'Page')]\")\n",
    "scanner.run()"
   ]
  },
  {
   "cell_type": "code",
   "execution_count": null,
   "metadata": {},
   "outputs": [],
   "source": [
    "from dotenv import load_dotenv\n",
    "from src.driver import Driver\n",
    "from src.scanner import Scanner\n",
    "from src.routines.myworkday import Routine\n",
    "from time import sleep\n",
    "# from selenium.webdriver.support import expected_conditions as ec\n",
    "load_dotenv()\n",
    "driver = Driver(load_timeout=-1, driver_logging=False,debug_address=\"localhost:9222\")\n",
    "# driver.driver.implicitly_wait(10)\n",
    "routine = Routine(driver.driver,\"https://td.wd3.myworkdayjobs.com/en-US/TD_Bank_Careers/job/Toronto%2C-Ontario/Sr-Software-Engineer--ETrading--ION_R_1346079/apply/applyManually\")\n",
    "(\n",
    "    routine\n",
    "    .goto_url().pause(2).sign_in().pause(3).refresh()\n",
    "    .pause(5).my_information().pause(1)\n",
    "    .find_click_submit_btn().pause(5).my_experience()\n",
    ")\n",
    "routine.find_click_submit_btn().pause(5).my_experience(selected_sections=[\"files\"])"
   ]
  },
  {
   "cell_type": "markdown",
   "metadata": {},
   "source": [
    "## Scan all form elements"
   ]
  },
  {
   "cell_type": "code",
   "execution_count": null,
   "metadata": {},
   "outputs": [],
   "source": [
    "from dotenv import load_dotenv\n",
    "from src.driver import Driver\n",
    "from src.scanner import Scanner\n",
    "from src.routines.myworkday import Routine\n",
    "from selenium.webdriver import Keys, ActionChains\n",
    "load_dotenv()\n",
    "driver = Driver(load_timeout=-1, driver_logging=False,debug_address=\"localhost:9222\")\n",
    "scanner = Scanner(driver.driver,\"div[contains(@data-automation-id,'Page')]\")\n",
    "routine = Routine(driver.driver,\"https://td.wd3.myworkdayjobs.com/en-US/TD_Bank_Careers/job/Contact-Centre-Representative_R_1359273/apply/applyManually\")\n",
    "routine.goto_url().pause(2).sign_in().pause(3).find_click_submit_btn().pause(4).find_click_submit_btn().pause(5)#.pause(5).my_information().pause(1).find_click_submit_btn().pause(5).my_experience()\n",
    "# scanner.refresh_for_form()\n",
    "# scanner.run()\n",
    "# scanner.reset_dropdown()"
   ]
  },
  {
   "cell_type": "code",
   "execution_count": null,
   "metadata": {},
   "outputs": [],
   "source": [
    "script1 = \"\"\"const targetNode = document.getElementsByTagName('body');\n",
    "const config = { attributes: true, childList: true, subtree: true };\n",
    "const callback = (mutationList, observer) => {\n",
    "  for (const mutation of mutationList) {\n",
    "    if (mutation.type === 'childList') {\n",
    "      console.log('A child node has been added or removed: '+ mutation.addedNodes[0]);\n",
    "      if (mutation.addedNodes.length > 0 && mutation.addedNodes[0].innerText){\n",
    "        res = document.createElement('textarea')\n",
    "        res.setAttribute('id','my-result')\n",
    "        res.innerHTML = mutation.addedNodes[0].innerText\n",
    "        document.body.appendChild(res)\n",
    "      }\n",
    "    }\n",
    "  }\n",
    "};\n",
    "const observer = new MutationObserver(callback);\n",
    "\n",
    "// Start observing the target node for configured mutations\n",
    "observer.observe(targetNode[0], config);\n",
    "\"\"\""
   ]
  },
  {
   "cell_type": "code",
   "execution_count": null,
   "metadata": {},
   "outputs": [],
   "source": [
    "script2 = f\"\"\"\n",
    "const script = document.createElement('script');\n",
    "script.innerHTML = `{script1}`;\n",
    "document.head.appendChild(script)\n",
    "\"\"\"\n",
    "driver.driver.execute_script(script2)"
   ]
  },
  {
   "cell_type": "code",
   "execution_count": null,
   "metadata": {},
   "outputs": [],
   "source": [
    "from dotenv import load_dotenv\n",
    "from src.driver import Driver\n",
    "from src.bidi import Bidi\n",
    "load_dotenv()\n",
    "driver = Driver(load_timeout=-1, driver_logging=False,debug_address=\"localhost:9222\")\n",
    "bidi = Bidi(driver.driver)\n",
    "bidi.create_output_node()\n",
    "bidi.create_mutation_observer()\n",
    "observer_id = bidi.start_mutation_observer()\n"
   ]
  },
  {
   "cell_type": "markdown",
   "metadata": {},
   "source": [
    "#### Test the initial webdriver gRPC client very basic procedures"
   ]
  },
  {
   "cell_type": "code",
   "execution_count": 1,
   "metadata": {},
   "outputs": [
    {
     "name": "stdout",
     "output_type": "stream",
     "text": [
      "0  \n"
     ]
    }
   ],
   "source": [
    "from time import sleep\n",
    "from typing import Optional\n",
    "from src.webdriver_service import webdriver_client, pb2_grpc, pb2\n",
    "from src.webdriver_service.dataclasses import DriverOptions, Credentials\n",
    "\n",
    "\n",
    "url = \"https://td.wd3.myworkdayjobs.com/en-US/TD_Bank_Careers/job/Mount-Laurel---12000-Horizon-Way/Business-Application-Analyst-III--US-_R_1352398/apply/applyManually\"\n",
    "\t\t\t\n",
    "@webdriver_client\n",
    "def test_wrapped(stub:Optional[pb2_grpc.WebDriverStub] = None):\n",
    "\tassert stub\n",
    "\toptions = DriverOptions(headless=False, load_timeout=12).to_message()\n",
    "\tresponse:pb2.ServiceResponse = stub.start_driver(options)\n",
    "\tsleep(1)\n",
    "\tresponse:pb2.ServiceResponse = stub.get_url(pb2.URL(url=url))\n",
    "\tsleep(3)\n",
    "\tcreds = Credentials(username=\"z8c9kgsgo@mozmail.com\", password=\"fuckRecruiters123@\")\n",
    "\tresponse:pb2.ServiceResponse = stub.sign_in(creds.to_message())\n",
    "\tsleep(5)\n",
    "\tresponse:pb2.ServiceResponse = stub.stop_driver(pb2.Empty())\n",
    "\tprint(response.status, response.message, response.exception)\n",
    "\t\n",
    "test_wrapped()"
   ]
  }
 ],
 "metadata": {
  "kernelspec": {
   "display_name": "venv",
   "language": "python",
   "name": "python3"
  },
  "language_info": {
   "codemirror_mode": {
    "name": "ipython",
    "version": 3
   },
   "file_extension": ".py",
   "mimetype": "text/x-python",
   "name": "python",
   "nbconvert_exporter": "python",
   "pygments_lexer": "ipython3",
   "version": "3.10.12"
  }
 },
 "nbformat": 4,
 "nbformat_minor": 2
}
